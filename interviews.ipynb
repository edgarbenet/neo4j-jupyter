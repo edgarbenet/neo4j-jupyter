{
 "metadata": {
  "language_info": {
   "codemirror_mode": {
    "name": "ipython",
    "version": 3
   },
   "file_extension": ".py",
   "mimetype": "text/x-python",
   "name": "python",
   "nbconvert_exporter": "python",
   "pygments_lexer": "ipython3",
   "version": "3.9.2"
  },
  "orig_nbformat": 2,
  "kernelspec": {
   "name": "python392jvsc74a57bd0ac59ebe37160ed0dfa835113d9b8498d9f09ceb179beaac4002f036b9467c963",
   "display_name": "Python 3.9.2 64-bit"
  },
  "metadata": {
   "interpreter": {
    "hash": "ac59ebe37160ed0dfa835113d9b8498d9f09ceb179beaac4002f036b9467c963"
   }
  }
 },
 "nbformat": 4,
 "nbformat_minor": 2,
 "cells": [
  {
   "source": [
    "# INTERVIEWS\n",
    "Notebook of the interviews result implementation in Cypher\n"
   ],
   "cell_type": "markdown",
   "metadata": {}
  },
  {
   "cell_type": "code",
   "execution_count": 5,
   "metadata": {},
   "outputs": [],
   "source": [
    "from py2neo import Graph\n",
    "\n",
    "#TODO: create a new database that is empty. This notebook will override the database\n",
    "\n",
    "SCHEME = \"bolt\"\n",
    "HOST = \"localhost\"\n",
    "USERNAME = 'neo4j'\n",
    "PASSWORD = 'trialmt'                     \n",
    "\n",
    "graph = Graph(scheme=SCHEME, host=HOST, auth=(USERNAME, PASSWORD))"
   ]
  },
  {
   "cell_type": "code",
   "execution_count": 8,
   "metadata": {},
   "outputs": [],
   "source": [
    "#clear the database\n",
    "graph.delete_all()"
   ]
  },
  {
   "cell_type": "code",
   "execution_count": 9,
   "metadata": {},
   "outputs": [
    {
     "output_type": "execute_result",
     "data": {
      "text/plain": [
       " p                                                                                                                                                                                                                                                                                                               \n",
       "-----------------------------------------------------------------------------------------------------------------------------------------------------------------------------------------------------------------------------------------------------------------------------------------------------------------\n",
       " (Andy)-[:REPORTED {}]->(Produkt führt zu Datenlöschung - Entwicklungsaufwand der Tests)-[:INDICATES {}]->(Tests are not maintained)<-[:REQUIRES {}]-(Test case maintenance)-[:SOLVES {}]->(Functionality of product more important)-[:CAUSES {}]->(Tests are not maintained)-[:BELONGS_TO {}]->(Maintenance TD) "
      ],
      "text/html": "<table><tr><th>p</th></tr><tr><td style=\"text-align:left\">(Andy)-[:REPORTED {}]-&gt;(Produkt führt zu Datenlöschung - Entwicklungsaufwand der Tests)-[:INDICATES {}]-&gt;(Tests are not maintained)&lt;-[:REQUIRES {}]-(Test case maintenance)-[:SOLVES {}]-&gt;(Functionality of product more important)-[:CAUSES {}]-&gt;(Tests are not maintained)-[:BELONGS_TO {}]-&gt;(Maintenance TD)</td></tr></table>"
     },
     "metadata": {},
     "execution_count": 9
    }
   ],
   "source": [
    "graph.run(\"\"\"\n",
    "CREATE p = (andy:Person {name:'Andy'})\n",
    "-[:REPORTED]->\n",
    "(incident1:TDIncident {name:\"Produkt führt zu Datenlöschung - Entwicklungsaufwand der Tests\"})\n",
    "-[:INDICATES]->\n",
    "(Tnm:TDSubtype {name:\"Tests are not maintained\"})\n",
    "<-[:REQUIRES]-\n",
    "(tcm: Measure {name:\"Test case maintenance\"})\n",
    "-[:SOLVES]->\n",
    "(fpmi:Cause {name:\"Functionality of product more important\"})\n",
    "-[:CAUSES]->(Tnm)-[:BELONGS_TO]->(mtd:TDType {name:\"Maintenance TD\"})\n",
    "RETURN p\n",
    "\n",
    "\"\"\")"
   ]
  },
  {
   "cell_type": "code",
   "execution_count": 10,
   "metadata": {},
   "outputs": [
    {
     "output_type": "display_data",
     "data": {
      "text/plain": "<IPython.core.display.Javascript object>",
      "application/javascript": "var link = document.createElement(\"link\");\n\tlink.ref = \"stylesheet\";\n\tlink.type = \"text/css\";\n\tlink.href = \"https://cdnjs.cloudflare.com/ajax/libs/vis/4.8.2/vis.css\";\n\tdocument.head.appendChild(link);\nrequire.config({     paths: {         vis: '//cdnjs.cloudflare.com/ajax/libs/vis/4.8.2/vis.min'     } }); require(['vis'], function(vis) {  window.vis = vis; }); "
     },
     "metadata": {}
    },
    {
     "output_type": "execute_result",
     "data": {
      "text/plain": [
       "<IPython.core.display.HTML object>"
      ],
      "text/html": "<div id=\"06d0193b-5bdf-4701-8dc0-03a506fecedb\" style=\"height: 400px;\"></div>\n\n<script type=\"text/javascript\">\n\n    var nodes = [{\"id\": 13, \"label\": \"Produkt f\\u00fchrt zu Datenl\\u00f6schung - Entwicklungsaufwand der Tests\", \"group\": \"TDIncident\", \"title\": \"Node('TDIncident', name='Produkt f\\u00fchrt zu Datenl\\u00f6schung - Entwicklungsaufwand der Tests')\"}, {\"id\": 0, \"label\": \"Tests are not maintained\", \"group\": \"TDSubtype\", \"title\": \"Node('TDSubtype', name='Tests are not maintained')\"}, {\"id\": 3, \"label\": \"\", \"group\": \"TDType\", \"title\": \"Node('TDType', name='Maintenance TD')\"}, {\"id\": 2, \"label\": \"\", \"group\": \"Cause\", \"title\": \"Node('Cause', name='Functionality of product more important')\"}, {\"id\": 1, \"label\": \"\", \"group\": \"Measure\", \"title\": \"Node('Measure', name='Test case maintenance')\"}, {\"id\": 12, \"label\": \"\", \"group\": \"Person\", \"title\": \"Node('Person', name='Andy')\"}];\n    var edges = [{\"from\": 13, \"to\": 0, \"label\": \"INDICATES\"}, {\"from\": 0, \"to\": 3, \"label\": \"BELONGS_TO\"}, {\"from\": 2, \"to\": 0, \"label\": \"CAUSES\"}, {\"from\": 1, \"to\": 2, \"label\": \"SOLVES\"}, {\"from\": 1, \"to\": 0, \"label\": \"REQUIRES\"}, {\"from\": 12, \"to\": 13, \"label\": \"REPORTED\"}];\n\n    var container = document.getElementById(\"06d0193b-5bdf-4701-8dc0-03a506fecedb\");\n\n    var data = {\n        nodes: nodes,\n        edges: edges\n    };\n\n    var options = {\n    nodes: {\n        shape: 'dot',\n        size: 25,\n        font: {\n            size: 14\n        }\n    },\n    edges: {\n        font: {\n            size: 14,\n            align: 'middle'\n        },\n        color: 'gray',\n        arrows: {\n            to: {\n                enabled: true,\n                scaleFactor: 0.5\n            }\n        },\n        smooth: {\n            enabled: false\n        }\n    },\n    physics: {\n        enabled: true\n        }\n    };\n\n    var network = new vis.Network(container, data, options);\n\n</script>\n"
     },
     "metadata": {},
     "execution_count": 10
    }
   ],
   "source": [
    "from neo4jupyter import neo4jupyter\n",
    "\n",
    "neo4jupyter.init_notebook_mode()\n",
    "\n",
    "\n",
    "options = {\"TDIncident\": \"name\", \"TDSubtype\": \"name\"}\n",
    "neo4jupyter.draw(graph, options)"
   ]
  },
  {
   "cell_type": "code",
   "execution_count": 20,
   "metadata": {},
   "outputs": [
    {
     "output_type": "execute_result",
     "data": {
      "text/plain": [
       " (andy)-[*0..10]-()                                                                                                                                                                                                                                                                                                                                                                                                                                                                                                                                                                                                                                                                                                                                                                                                                                                                                                                                                                                                                                                                                                                                                                                                                                                                                                                                                                                                                                                                                                                                                                                                                                                                                                                                                                                                                                                                                                                                                                                                                                                                                                                                                                                                                                                                                                                                                                                                                                                                                \n",
       "---------------------------------------------------------------------------------------------------------------------------------------------------------------------------------------------------------------------------------------------------------------------------------------------------------------------------------------------------------------------------------------------------------------------------------------------------------------------------------------------------------------------------------------------------------------------------------------------------------------------------------------------------------------------------------------------------------------------------------------------------------------------------------------------------------------------------------------------------------------------------------------------------------------------------------------------------------------------------------------------------------------------------------------------------------------------------------------------------------------------------------------------------------------------------------------------------------------------------------------------------------------------------------------------------------------------------------------------------------------------------------------------------------------------------------------------------------------------------------------------------------------------------------------------------------------------------------------------------------------------------------------------------------------------------------------------------------------------------------------------------------------------------------------------------------------------------------------------------------------------------------------------------------------------------------------------------------------------------------------------------------------------------------------------------------------------------------------------------------------------------------------------------------------------------------------------------------------------------------------------------------------------------------------------------------------------------------------------------------------------------------------------------------------------------------------------------------------------------------------------------\n",
       " [(Andy), (Andy)-[:REPORTED {}]->(Produkt führt zu Datenlöschung - Entwicklungsaufwand der Tests), (Andy)-[:REPORTED {}]->(Produkt führt zu Datenlöschung - Entwicklungsaufwand der Tests)-[:INDICATES {}]->(Tests are not maintained), (Andy)-[:REPORTED {}]->(Produkt führt zu Datenlöschung - Entwicklungsaufwand der Tests)-[:INDICATES {}]->(Tests are not maintained)<-[:CAUSES {}]-(Functionality of product more important), (Andy)-[:REPORTED {}]->(Produkt führt zu Datenlöschung - Entwicklungsaufwand der Tests)-[:INDICATES {}]->(Tests are not maintained)<-[:CAUSES {}]-(Functionality of product more important)<-[:SOLVES {}]-(Test case maintenance), (Andy)-[:REPORTED {}]->(Produkt führt zu Datenlöschung - Entwicklungsaufwand der Tests)-[:INDICATES {}]->(Tests are not maintained)<-[:CAUSES {}]-(Functionality of product more important)<-[:SOLVES {}]-(Test case maintenance)-[:REQUIRES {}]->(Tests are not maintained), (Andy)-[:REPORTED {}]->(Produkt führt zu Datenlöschung - Entwicklungsaufwand der Tests)-[:INDICATES {}]->(Tests are not maintained)<-[:CAUSES {}]-(Functionality of product more important)<-[:SOLVES {}]-(Test case maintenance)-[:REQUIRES {}]->(Tests are not maintained)-[:BELONGS_TO {}]->(Maintenance TD), (Andy)-[:REPORTED {}]->(Produkt führt zu Datenlöschung - Entwicklungsaufwand der Tests)-[:INDICATES {}]->(Tests are not maintained)-[:BELONGS_TO {}]->(Maintenance TD), (Andy)-[:REPORTED {}]->(Produkt führt zu Datenlöschung - Entwicklungsaufwand der Tests)-[:INDICATES {}]->(Tests are not maintained)<-[:REQUIRES {}]-(Test case maintenance), (Andy)-[:REPORTED {}]->(Produkt führt zu Datenlöschung - Entwicklungsaufwand der Tests)-[:INDICATES {}]->(Tests are not maintained)<-[:REQUIRES {}]-(Test case maintenance)-[:SOLVES {}]->(Functionality of product more important), (Andy)-[:REPORTED {}]->(Produkt führt zu Datenlöschung - Entwicklungsaufwand der Tests)-[:INDICATES {}]->(Tests are not maintained)<-[:REQUIRES {}]-(Test case maintenance)-[:SOLVES {}]->(Functionality of product more important)-[:CAUSES {}]->(Tests are not maintained), (Andy)-[:REPORTED {}]->(Produkt führt zu Datenlöschung - Entwicklungsaufwand der Tests)-[:INDICATES {}]->(Tests are not maintained)<-[:REQUIRES {}]-(Test case maintenance)-[:SOLVES {}]->(Functionality of product more important)-[:CAUSES {}]->(Tests are not maintained)-[:BELONGS_TO {}]->(Maintenance TD), (Andy)-[:WORKS_IN {}]->(Software)] "
      ],
      "text/html": "<table><tr><th>(andy)-[*0..10]-()</th></tr><tr><td style=\"text-align:left\">[(Andy), (Andy)-[:REPORTED {}]-&gt;(Produkt führt zu Datenlöschung - Entwicklungsaufwand der Tests), (Andy)-[:REPORTED {}]-&gt;(Produkt führt zu Datenlöschung - Entwicklungsaufwand der Tests)-[:INDICATES {}]-&gt;(Tests are not maintained), (Andy)-[:REPORTED {}]-&gt;(Produkt führt zu Datenlöschung - Entwicklungsaufwand der Tests)-[:INDICATES {}]-&gt;(Tests are not maintained)&lt;-[:CAUSES {}]-(Functionality of product more important), (Andy)-[:REPORTED {}]-&gt;(Produkt führt zu Datenlöschung - Entwicklungsaufwand der Tests)-[:INDICATES {}]-&gt;(Tests are not maintained)&lt;-[:CAUSES {}]-(Functionality of product more important)&lt;-[:SOLVES {}]-(Test case maintenance), (Andy)-[:REPORTED {}]-&gt;(Produkt führt zu Datenlöschung - Entwicklungsaufwand der Tests)-[:INDICATES {}]-&gt;(Tests are not maintained)&lt;-[:CAUSES {}]-(Functionality of product more important)&lt;-[:SOLVES {}]-(Test case maintenance)-[:REQUIRES {}]-&gt;(Tests are not maintained), (Andy)-[:REPORTED {}]-&gt;(Produkt führt zu Datenlöschung - Entwicklungsaufwand der Tests)-[:INDICATES {}]-&gt;(Tests are not maintained)&lt;-[:CAUSES {}]-(Functionality of product more important)&lt;-[:SOLVES {}]-(Test case maintenance)-[:REQUIRES {}]-&gt;(Tests are not maintained)-[:BELONGS_TO {}]-&gt;(Maintenance TD), (Andy)-[:REPORTED {}]-&gt;(Produkt führt zu Datenlöschung - Entwicklungsaufwand der Tests)-[:INDICATES {}]-&gt;(Tests are not maintained)-[:BELONGS_TO {}]-&gt;(Maintenance TD), (Andy)-[:REPORTED {}]-&gt;(Produkt führt zu Datenlöschung - Entwicklungsaufwand der Tests)-[:INDICATES {}]-&gt;(Tests are not maintained)&lt;-[:REQUIRES {}]-(Test case maintenance), (Andy)-[:REPORTED {}]-&gt;(Produkt führt zu Datenlöschung - Entwicklungsaufwand der Tests)-[:INDICATES {}]-&gt;(Tests are not maintained)&lt;-[:REQUIRES {}]-(Test case maintenance)-[:SOLVES {}]-&gt;(Functionality of product more important), (Andy)-[:REPORTED {}]-&gt;(Produkt führt zu Datenlöschung - Entwicklungsaufwand der Tests)-[:INDICATES {}]-&gt;(Tests are not maintained)&lt;-[:REQUIRES {}]-(Test case maintenance)-[:SOLVES {}]-&gt;(Functionality of product more important)-[:CAUSES {}]-&gt;(Tests are not maintained), (Andy)-[:REPORTED {}]-&gt;(Produkt führt zu Datenlöschung - Entwicklungsaufwand der Tests)-[:INDICATES {}]-&gt;(Tests are not maintained)&lt;-[:REQUIRES {}]-(Test case maintenance)-[:SOLVES {}]-&gt;(Functionality of product more important)-[:CAUSES {}]-&gt;(Tests are not maintained)-[:BELONGS_TO {}]-&gt;(Maintenance TD), (Andy)-[:WORKS_IN {}]-&gt;(Software)]</td></tr></table>"
     },
     "metadata": {},
     "execution_count": 20
    }
   ],
   "source": [
    "graph.run(\"\"\"\n",
    "MATCH (andy:Person {name:'Andy'})\n",
    "SET andy.heardOfTD=true,andy.experience=\"9-19\"\n",
    "CREATE (andy)-[:WORKS_IN]->(sw:Discipline {name:\"Software\"})\n",
    "RETURN (andy)-[*0..10]-()\n",
    "\"\"\")\n"
   ]
  },
  {
   "cell_type": "code",
   "execution_count": 22,
   "metadata": {},
   "outputs": [
    {
     "output_type": "execute_result",
     "data": {
      "text/plain": [
       " (andy)-[*0..10]-()                                                                                                                                                                                                                                                                                                                                                                                                                                                                                                                                                                                                                                                                                                                                                                                                                                                                                                                                                                                                                                                                                                                                                                                                                                                                                                                                                                                                                                                                                                                                                                                                                                                                                                                                                                                                                                                                                                                                                                                                                                                                                                                                                                                                                                                                                                                                                                                                                                                                                                                                                                                                                                                                                                                                                    \n",
       "-----------------------------------------------------------------------------------------------------------------------------------------------------------------------------------------------------------------------------------------------------------------------------------------------------------------------------------------------------------------------------------------------------------------------------------------------------------------------------------------------------------------------------------------------------------------------------------------------------------------------------------------------------------------------------------------------------------------------------------------------------------------------------------------------------------------------------------------------------------------------------------------------------------------------------------------------------------------------------------------------------------------------------------------------------------------------------------------------------------------------------------------------------------------------------------------------------------------------------------------------------------------------------------------------------------------------------------------------------------------------------------------------------------------------------------------------------------------------------------------------------------------------------------------------------------------------------------------------------------------------------------------------------------------------------------------------------------------------------------------------------------------------------------------------------------------------------------------------------------------------------------------------------------------------------------------------------------------------------------------------------------------------------------------------------------------------------------------------------------------------------------------------------------------------------------------------------------------------------------------------------------------------------------------------------------------------------------------------------------------------------------------------------------------------------------------------------------------------------------------------------------------------------------------------------------------------------------------------------------------------------------------------------------------------------------------------------------------------------------------------------------------------\n",
       " [(Andy), (Andy)-[:REPORTED {}]->(Produkt führt zu Datenlöschung - Entwicklungsaufwand der Tests), (Andy)-[:REPORTED {}]->(Produkt führt zu Datenlöschung - Entwicklungsaufwand der Tests)-[:INDICATES {}]->(Tests are not maintained), (Andy)-[:REPORTED {}]->(Produkt führt zu Datenlöschung - Entwicklungsaufwand der Tests)-[:INDICATES {}]->(Tests are not maintained)<-[:CAUSES {}]-(Functionality of product more important), (Andy)-[:REPORTED {}]->(Produkt führt zu Datenlöschung - Entwicklungsaufwand der Tests)-[:INDICATES {}]->(Tests are not maintained)<-[:CAUSES {}]-(Functionality of product more important)<-[:SOLVES {}]-(Test case maintenance), (Andy)-[:REPORTED {}]->(Produkt führt zu Datenlöschung - Entwicklungsaufwand der Tests)-[:INDICATES {}]->(Tests are not maintained)<-[:CAUSES {}]-(Functionality of product more important)<-[:SOLVES {}]-(Test case maintenance)-[:REQUIRES {}]->(Tests are not maintained), (Andy)-[:REPORTED {}]->(Produkt führt zu Datenlöschung - Entwicklungsaufwand der Tests)-[:INDICATES {}]->(Tests are not maintained)<-[:CAUSES {}]-(Functionality of product more important)<-[:SOLVES {}]-(Test case maintenance)-[:REQUIRES {}]->(Tests are not maintained)-[:BELONGS_TO {}]->(Maintenance TD), (Andy)-[:REPORTED {}]->(Produkt führt zu Datenlöschung - Entwicklungsaufwand der Tests)-[:INDICATES {}]->(Tests are not maintained)-[:BELONGS_TO {}]->(Maintenance TD), (Andy)-[:REPORTED {}]->(Produkt führt zu Datenlöschung - Entwicklungsaufwand der Tests)-[:INDICATES {}]->(Tests are not maintained)<-[:REQUIRES {}]-(Test case maintenance), (Andy)-[:REPORTED {}]->(Produkt führt zu Datenlöschung - Entwicklungsaufwand der Tests)-[:INDICATES {}]->(Tests are not maintained)<-[:REQUIRES {}]-(Test case maintenance)-[:SOLVES {}]->(Functionality of product more important), (Andy)-[:REPORTED {}]->(Produkt führt zu Datenlöschung - Entwicklungsaufwand der Tests)-[:INDICATES {}]->(Tests are not maintained)<-[:REQUIRES {}]-(Test case maintenance)-[:SOLVES {}]->(Functionality of product more important)-[:CAUSES {}]->(Tests are not maintained), (Andy)-[:REPORTED {}]->(Produkt führt zu Datenlöschung - Entwicklungsaufwand der Tests)-[:INDICATES {}]->(Tests are not maintained)<-[:REQUIRES {}]-(Test case maintenance)-[:SOLVES {}]->(Functionality of product more important)-[:CAUSES {}]->(Tests are not maintained)-[:BELONGS_TO {}]->(Maintenance TD), (Andy)-[:WORKS_IN {}]->(Software), (Andy)-[:WORKS_AT {position: 'Digitalisierungscenter: embedded Software Entwicklung - Datenanalys'}]->(Wittenstein), (Andy)-[:WORKS_AT {position: 'Digitalisierungscenter: embedded Software Entwicklung - Datenanalys'}]->(Wittenstein)-[:IS_IN {}]->(Eletronics)] "
      ],
      "text/html": "<table><tr><th>(andy)-[*0..10]-()</th></tr><tr><td style=\"text-align:left\">[(Andy), (Andy)-[:REPORTED {}]-&gt;(Produkt führt zu Datenlöschung - Entwicklungsaufwand der Tests), (Andy)-[:REPORTED {}]-&gt;(Produkt führt zu Datenlöschung - Entwicklungsaufwand der Tests)-[:INDICATES {}]-&gt;(Tests are not maintained), (Andy)-[:REPORTED {}]-&gt;(Produkt führt zu Datenlöschung - Entwicklungsaufwand der Tests)-[:INDICATES {}]-&gt;(Tests are not maintained)&lt;-[:CAUSES {}]-(Functionality of product more important), (Andy)-[:REPORTED {}]-&gt;(Produkt führt zu Datenlöschung - Entwicklungsaufwand der Tests)-[:INDICATES {}]-&gt;(Tests are not maintained)&lt;-[:CAUSES {}]-(Functionality of product more important)&lt;-[:SOLVES {}]-(Test case maintenance), (Andy)-[:REPORTED {}]-&gt;(Produkt führt zu Datenlöschung - Entwicklungsaufwand der Tests)-[:INDICATES {}]-&gt;(Tests are not maintained)&lt;-[:CAUSES {}]-(Functionality of product more important)&lt;-[:SOLVES {}]-(Test case maintenance)-[:REQUIRES {}]-&gt;(Tests are not maintained), (Andy)-[:REPORTED {}]-&gt;(Produkt führt zu Datenlöschung - Entwicklungsaufwand der Tests)-[:INDICATES {}]-&gt;(Tests are not maintained)&lt;-[:CAUSES {}]-(Functionality of product more important)&lt;-[:SOLVES {}]-(Test case maintenance)-[:REQUIRES {}]-&gt;(Tests are not maintained)-[:BELONGS_TO {}]-&gt;(Maintenance TD), (Andy)-[:REPORTED {}]-&gt;(Produkt führt zu Datenlöschung - Entwicklungsaufwand der Tests)-[:INDICATES {}]-&gt;(Tests are not maintained)-[:BELONGS_TO {}]-&gt;(Maintenance TD), (Andy)-[:REPORTED {}]-&gt;(Produkt führt zu Datenlöschung - Entwicklungsaufwand der Tests)-[:INDICATES {}]-&gt;(Tests are not maintained)&lt;-[:REQUIRES {}]-(Test case maintenance), (Andy)-[:REPORTED {}]-&gt;(Produkt führt zu Datenlöschung - Entwicklungsaufwand der Tests)-[:INDICATES {}]-&gt;(Tests are not maintained)&lt;-[:REQUIRES {}]-(Test case maintenance)-[:SOLVES {}]-&gt;(Functionality of product more important), (Andy)-[:REPORTED {}]-&gt;(Produkt führt zu Datenlöschung - Entwicklungsaufwand der Tests)-[:INDICATES {}]-&gt;(Tests are not maintained)&lt;-[:REQUIRES {}]-(Test case maintenance)-[:SOLVES {}]-&gt;(Functionality of product more important)-[:CAUSES {}]-&gt;(Tests are not maintained), (Andy)-[:REPORTED {}]-&gt;(Produkt führt zu Datenlöschung - Entwicklungsaufwand der Tests)-[:INDICATES {}]-&gt;(Tests are not maintained)&lt;-[:REQUIRES {}]-(Test case maintenance)-[:SOLVES {}]-&gt;(Functionality of product more important)-[:CAUSES {}]-&gt;(Tests are not maintained)-[:BELONGS_TO {}]-&gt;(Maintenance TD), (Andy)-[:WORKS_IN {}]-&gt;(Software), (Andy)-[:WORKS_AT {position: &#039;Digitalisierungscenter: embedded Software Entwicklung - Datenanalys&#039;}]-&gt;(Wittenstein), (Andy)-[:WORKS_AT {position: &#039;Digitalisierungscenter: embedded Software Entwicklung - Datenanalys&#039;}]-&gt;(Wittenstein)-[:IS_IN {}]-&gt;(Eletronics)]</td></tr></table>"
     },
     "metadata": {},
     "execution_count": 22
    }
   ],
   "source": [
    "graph.run(\"\"\"\n",
    "MATCH (andy:Person {name:'Andy'})\n",
    "CREATE (andy)-[:WORKS_AT {position:\"Digitalisierungscenter: embedded Software Entwicklung - Datenanalys\"}]\n",
    "    ->(ws:Company {name:\"Wittenstein\"})-[:IS_IN]->(ms:Domain {name:\"Eletronics\"})\n",
    "RETURN (andy)-[*0..10]-()\n",
    "\"\"\")\n"
   ]
  },
  {
   "cell_type": "code",
   "execution_count": 23,
   "metadata": {},
   "outputs": [
    {
     "output_type": "execute_result",
     "data": {
      "text/plain": [
       " (tdi)-[*0..10]-()                                                                                                                                                                                                                                                                                                                                                                                                                                                                                                                                                                                                                                                                                                                                                                                                                                                                                                                                                                                                                                                                                                                                                                                                                                                                                                                                                                                                                                                                                                                                                                                                                                                                                                                                                                                                                                                                                                                                                                                                                                                                                                                                                                                                                                                                                                                                                                                                                                                                                                                                                                                                                                                                                                                                                                                                                                                                                                                         \n",
       "-------------------------------------------------------------------------------------------------------------------------------------------------------------------------------------------------------------------------------------------------------------------------------------------------------------------------------------------------------------------------------------------------------------------------------------------------------------------------------------------------------------------------------------------------------------------------------------------------------------------------------------------------------------------------------------------------------------------------------------------------------------------------------------------------------------------------------------------------------------------------------------------------------------------------------------------------------------------------------------------------------------------------------------------------------------------------------------------------------------------------------------------------------------------------------------------------------------------------------------------------------------------------------------------------------------------------------------------------------------------------------------------------------------------------------------------------------------------------------------------------------------------------------------------------------------------------------------------------------------------------------------------------------------------------------------------------------------------------------------------------------------------------------------------------------------------------------------------------------------------------------------------------------------------------------------------------------------------------------------------------------------------------------------------------------------------------------------------------------------------------------------------------------------------------------------------------------------------------------------------------------------------------------------------------------------------------------------------------------------------------------------------------------------------------------------------------------------------------------------------------------------------------------------------------------------------------------------------------------------------------------------------------------------------------------------------------------------------------------------------------------------------------------------------------------------------------------------------------------------------------------------------------------------------------------------------\n",
       " [(Produkt führt zu Datenlöschung - Entwicklungsaufwand der Tests), (Produkt führt zu Datenlöschung - Entwicklungsaufwand der Tests)<-[:REPORTED {}]-(Andy), (Produkt führt zu Datenlöschung - Entwicklungsaufwand der Tests)<-[:REPORTED {}]-(Andy)-[:WORKS_IN {}]->(Software), (Produkt führt zu Datenlöschung - Entwicklungsaufwand der Tests)<-[:REPORTED {}]-(Andy)-[:WORKS_AT {position: 'Digitalisierungscenter: embedded Software Entwicklung - Datenanalys'}]->(Wittenstein), (Produkt führt zu Datenlöschung - Entwicklungsaufwand der Tests)<-[:REPORTED {}]-(Andy)-[:WORKS_AT {position: 'Digitalisierungscenter: embedded Software Entwicklung - Datenanalys'}]->(Wittenstein)-[:IS_IN {}]->(Eletronics), (Produkt führt zu Datenlöschung - Entwicklungsaufwand der Tests)-[:INDICATES {}]->(Tests are not maintained), (Produkt führt zu Datenlöschung - Entwicklungsaufwand der Tests)-[:INDICATES {}]->(Tests are not maintained)<-[:CAUSES {}]-(Functionality of product more important), (Produkt führt zu Datenlöschung - Entwicklungsaufwand der Tests)-[:INDICATES {}]->(Tests are not maintained)<-[:CAUSES {}]-(Functionality of product more important)<-[:SOLVES {}]-(Test case maintenance), (Produkt führt zu Datenlöschung - Entwicklungsaufwand der Tests)-[:INDICATES {}]->(Tests are not maintained)<-[:CAUSES {}]-(Functionality of product more important)<-[:SOLVES {}]-(Test case maintenance)-[:REQUIRES {}]->(Tests are not maintained), (Produkt führt zu Datenlöschung - Entwicklungsaufwand der Tests)-[:INDICATES {}]->(Tests are not maintained)<-[:CAUSES {}]-(Functionality of product more important)<-[:SOLVES {}]-(Test case maintenance)-[:REQUIRES {}]->(Tests are not maintained)-[:BELONGS_TO {}]->(Maintenance TD), (Produkt führt zu Datenlöschung - Entwicklungsaufwand der Tests)-[:INDICATES {}]->(Tests are not maintained)-[:BELONGS_TO {}]->(Maintenance TD), (Produkt führt zu Datenlöschung - Entwicklungsaufwand der Tests)-[:INDICATES {}]->(Tests are not maintained)<-[:REQUIRES {}]-(Test case maintenance), (Produkt führt zu Datenlöschung - Entwicklungsaufwand der Tests)-[:INDICATES {}]->(Tests are not maintained)<-[:REQUIRES {}]-(Test case maintenance)-[:SOLVES {}]->(Functionality of product more important), (Produkt führt zu Datenlöschung - Entwicklungsaufwand der Tests)-[:INDICATES {}]->(Tests are not maintained)<-[:REQUIRES {}]-(Test case maintenance)-[:SOLVES {}]->(Functionality of product more important)-[:CAUSES {}]->(Tests are not maintained), (Produkt führt zu Datenlöschung - Entwicklungsaufwand der Tests)-[:INDICATES {}]->(Tests are not maintained)<-[:REQUIRES {}]-(Test case maintenance)-[:SOLVES {}]->(Functionality of product more important)-[:CAUSES {}]->(Tests are not maintained)-[:BELONGS_TO {}]->(Maintenance TD), (Produkt führt zu Datenlöschung - Entwicklungsaufwand der Tests)-[:AFFECETS {}]->(Software)] "
      ],
      "text/html": "<table><tr><th>(tdi)-[*0..10]-()</th></tr><tr><td style=\"text-align:left\">[(Produkt führt zu Datenlöschung - Entwicklungsaufwand der Tests), (Produkt führt zu Datenlöschung - Entwicklungsaufwand der Tests)&lt;-[:REPORTED {}]-(Andy), (Produkt führt zu Datenlöschung - Entwicklungsaufwand der Tests)&lt;-[:REPORTED {}]-(Andy)-[:WORKS_IN {}]-&gt;(Software), (Produkt führt zu Datenlöschung - Entwicklungsaufwand der Tests)&lt;-[:REPORTED {}]-(Andy)-[:WORKS_AT {position: &#039;Digitalisierungscenter: embedded Software Entwicklung - Datenanalys&#039;}]-&gt;(Wittenstein), (Produkt führt zu Datenlöschung - Entwicklungsaufwand der Tests)&lt;-[:REPORTED {}]-(Andy)-[:WORKS_AT {position: &#039;Digitalisierungscenter: embedded Software Entwicklung - Datenanalys&#039;}]-&gt;(Wittenstein)-[:IS_IN {}]-&gt;(Eletronics), (Produkt führt zu Datenlöschung - Entwicklungsaufwand der Tests)-[:INDICATES {}]-&gt;(Tests are not maintained), (Produkt führt zu Datenlöschung - Entwicklungsaufwand der Tests)-[:INDICATES {}]-&gt;(Tests are not maintained)&lt;-[:CAUSES {}]-(Functionality of product more important), (Produkt führt zu Datenlöschung - Entwicklungsaufwand der Tests)-[:INDICATES {}]-&gt;(Tests are not maintained)&lt;-[:CAUSES {}]-(Functionality of product more important)&lt;-[:SOLVES {}]-(Test case maintenance), (Produkt führt zu Datenlöschung - Entwicklungsaufwand der Tests)-[:INDICATES {}]-&gt;(Tests are not maintained)&lt;-[:CAUSES {}]-(Functionality of product more important)&lt;-[:SOLVES {}]-(Test case maintenance)-[:REQUIRES {}]-&gt;(Tests are not maintained), (Produkt führt zu Datenlöschung - Entwicklungsaufwand der Tests)-[:INDICATES {}]-&gt;(Tests are not maintained)&lt;-[:CAUSES {}]-(Functionality of product more important)&lt;-[:SOLVES {}]-(Test case maintenance)-[:REQUIRES {}]-&gt;(Tests are not maintained)-[:BELONGS_TO {}]-&gt;(Maintenance TD), (Produkt führt zu Datenlöschung - Entwicklungsaufwand der Tests)-[:INDICATES {}]-&gt;(Tests are not maintained)-[:BELONGS_TO {}]-&gt;(Maintenance TD), (Produkt führt zu Datenlöschung - Entwicklungsaufwand der Tests)-[:INDICATES {}]-&gt;(Tests are not maintained)&lt;-[:REQUIRES {}]-(Test case maintenance), (Produkt führt zu Datenlöschung - Entwicklungsaufwand der Tests)-[:INDICATES {}]-&gt;(Tests are not maintained)&lt;-[:REQUIRES {}]-(Test case maintenance)-[:SOLVES {}]-&gt;(Functionality of product more important), (Produkt führt zu Datenlöschung - Entwicklungsaufwand der Tests)-[:INDICATES {}]-&gt;(Tests are not maintained)&lt;-[:REQUIRES {}]-(Test case maintenance)-[:SOLVES {}]-&gt;(Functionality of product more important)-[:CAUSES {}]-&gt;(Tests are not maintained), (Produkt führt zu Datenlöschung - Entwicklungsaufwand der Tests)-[:INDICATES {}]-&gt;(Tests are not maintained)&lt;-[:REQUIRES {}]-(Test case maintenance)-[:SOLVES {}]-&gt;(Functionality of product more important)-[:CAUSES {}]-&gt;(Tests are not maintained)-[:BELONGS_TO {}]-&gt;(Maintenance TD), (Produkt führt zu Datenlöschung - Entwicklungsaufwand der Tests)-[:AFFECETS {}]-&gt;(Software)]</td></tr></table>"
     },
     "metadata": {},
     "execution_count": 23
    }
   ],
   "source": [
    "graph.run(\"\"\"\n",
    "MATCH (tdi:TDIncident {name:\"Produkt führt zu Datenlöschung - Entwicklungsaufwand der Tests\"})\n",
    "CREATE (tdi)-[:AFFECETS]->(disp:Discipline {name:\"Software\"})\n",
    "RETURN (tdi)-[*0..10]-()\n",
    "\"\"\")\n"
   ]
  },
  {
   "cell_type": "code",
   "execution_count": 24,
   "metadata": {},
   "outputs": [
    {
     "output_type": "execute_result",
     "data": {
      "text/plain": [
       "<IPython.core.display.HTML object>"
      ],
      "text/html": "<div id=\"2434a06f-9b20-4a1a-883a-8e317297e984\" style=\"height: 400px;\"></div>\n\n<script type=\"text/javascript\">\n\n    var nodes = [{\"id\": 12, \"label\": \"\", \"group\": \"Person\", \"title\": \"Node('Person', experience='9-19', heardOfTD=True, name='Andy')\"}, {\"id\": 5, \"label\": \"\", \"group\": \"Company\", \"title\": \"Node('Company', name='Wittenstein')\"}, {\"id\": 4, \"label\": \"\", \"group\": \"Discipline\", \"title\": \"Node('Discipline', name='Software')\"}, {\"id\": 13, \"label\": \"Produkt f\\u00fchrt zu Datenl\\u00f6schung - Entwicklungsaufwand der Tests\", \"group\": \"TDIncident\", \"title\": \"Node('TDIncident', name='Produkt f\\u00fchrt zu Datenl\\u00f6schung - Entwicklungsaufwand der Tests')\"}, {\"id\": 6, \"label\": \"\", \"group\": \"Domain\", \"title\": \"Node('Domain', name='Eletronics')\"}, {\"id\": 3, \"label\": \"\", \"group\": \"TDType\", \"title\": \"Node('TDType', name='Maintenance TD')\"}, {\"id\": 1, \"label\": \"\", \"group\": \"Measure\", \"title\": \"Node('Measure', name='Test case maintenance')\"}, {\"id\": 2, \"label\": \"\", \"group\": \"Cause\", \"title\": \"Node('Cause', name='Functionality of product more important')\"}, {\"id\": 0, \"label\": \"Tests are not maintained\", \"group\": \"TDSubtype\", \"title\": \"Node('TDSubtype', name='Tests are not maintained')\"}, {\"id\": 7, \"label\": \"\", \"group\": \"Discipline\", \"title\": \"Node('Discipline', name='Software')\"}];\n    var edges = [{\"from\": 12, \"to\": 5, \"label\": \"WORKS_AT\"}, {\"from\": 12, \"to\": 4, \"label\": \"WORKS_IN\"}, {\"from\": 12, \"to\": 13, \"label\": \"REPORTED\"}, {\"from\": 5, \"to\": 6, \"label\": \"IS_IN\"}, {\"from\": 1, \"to\": 2, \"label\": \"SOLVES\"}, {\"from\": 1, \"to\": 0, \"label\": \"REQUIRES\"}, {\"from\": 2, \"to\": 0, \"label\": \"CAUSES\"}, {\"from\": 13, \"to\": 7, \"label\": \"AFFECETS\"}, {\"from\": 13, \"to\": 0, \"label\": \"INDICATES\"}, {\"from\": 0, \"to\": 3, \"label\": \"BELONGS_TO\"}];\n\n    var container = document.getElementById(\"2434a06f-9b20-4a1a-883a-8e317297e984\");\n\n    var data = {\n        nodes: nodes,\n        edges: edges\n    };\n\n    var options = {\n    nodes: {\n        shape: 'dot',\n        size: 25,\n        font: {\n            size: 14\n        }\n    },\n    edges: {\n        font: {\n            size: 14,\n            align: 'middle'\n        },\n        color: 'gray',\n        arrows: {\n            to: {\n                enabled: true,\n                scaleFactor: 0.5\n            }\n        },\n        smooth: {\n            enabled: false\n        }\n    },\n    physics: {\n        enabled: true\n        }\n    };\n\n    var network = new vis.Network(container, data, options);\n\n</script>\n"
     },
     "metadata": {},
     "execution_count": 24
    }
   ],
   "source": [
    "options = {\"TDIncident\": \"name\", \"TDSubtype\": \"name\"}\n",
    "neo4jupyter.draw(graph, options)"
   ]
  },
  {
   "cell_type": "code",
   "execution_count": null,
   "metadata": {},
   "outputs": [],
   "source": []
  }
 ]
}